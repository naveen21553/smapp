{
 "cells": [
  {
   "cell_type": "code",
   "execution_count": 136,
   "metadata": {},
   "outputs": [],
   "source": [
    "import sqlite3\n",
    "import pandas as pd"
   ]
  },
  {
   "cell_type": "code",
   "execution_count": 142,
   "metadata": {},
   "outputs": [],
   "source": [
    "conn = sqlite3.connect('db.sqlite3')\n",
    "cursor = conn.cursor()"
   ]
  },
  {
   "cell_type": "code",
   "execution_count": 138,
   "metadata": {},
   "outputs": [],
   "source": [
    "filepath = 'C:/Users/jangi/Desktop/Carnot/datasheets.xls'\n",
    "student_fields = ['student_id', 'first_name', 'last_name', 'email', 'gender', 'school', 'books']\n",
    "school_fields = ['region', 'school_name', 'email', 'principal_name', 'phone', 'address']\n",
    "book_fields = ['title', 'author_name', 'date_of_publication', 'number_pages']\n",
    "\n",
    "student_db = pd.read_excel(filepath, sheet_name='Students', header=None, skiprows=1, index_col=None, names=student_fields)\n",
    "school_db = pd.read_excel(filepath, sheet_name='Schools', header=None, skiprows=1, index_col=None, names=school_fields)\n",
    "books_db = pd.read_excel(filepath, sheet_name='Books', header=None, skiprows=1, index_col=None, names=book_fields)\n",
    "\n",
    "books_db.insert(0, 'book_id', books_db.index)\n",
    "school_db.insert(0, 'school_id', school_db.index)\n",
    "\n",
    "school_dict = {k: v for k, v in school_db[['school_name', 'school_id']].values.tolist()}\n",
    "book_dict = {k: v for k, v in books_db[['title', 'book_id']].values.tolist()}\n",
    "\n",
    "\n",
    "\n",
    "student_db['school_id'] = student_db['school'].map(school_dict).astype(pd.Int64Dtype())\n",
    "student_db['books_id'] = student_db['books'].map(book_dict).astype(pd.Int64Dtype())\n",
    "student_db = student_db.drop(columns = ['school', 'books'])\n",
    "\n",
    "\n",
    "# student_db = student_db.drop(columns=['student_id'])\n",
    "# books_db = books_db.drop(columns=['book_id'])\n",
    "# school_db = school_db.drop(columns=['school_id'])"
   ]
  },
  {
   "cell_type": "code",
   "execution_count": 139,
   "metadata": {},
   "outputs": [
    {
     "data": {
      "text/html": [
       "<div>\n",
       "<style scoped>\n",
       "    .dataframe tbody tr th:only-of-type {\n",
       "        vertical-align: middle;\n",
       "    }\n",
       "\n",
       "    .dataframe tbody tr th {\n",
       "        vertical-align: top;\n",
       "    }\n",
       "\n",
       "    .dataframe thead th {\n",
       "        text-align: right;\n",
       "    }\n",
       "</style>\n",
       "<table border=\"1\" class=\"dataframe\">\n",
       "  <thead>\n",
       "    <tr style=\"text-align: right;\">\n",
       "      <th></th>\n",
       "      <th>first_name</th>\n",
       "      <th>last_name</th>\n",
       "      <th>email</th>\n",
       "      <th>gender</th>\n",
       "      <th>school_id</th>\n",
       "      <th>books_id</th>\n",
       "    </tr>\n",
       "  </thead>\n",
       "  <tbody>\n",
       "    <tr>\n",
       "      <th>0</th>\n",
       "      <td>Andy</td>\n",
       "      <td>Fullegar</td>\n",
       "      <td>afullegar0@wsj.com</td>\n",
       "      <td>Female</td>\n",
       "      <td>2</td>\n",
       "      <td>1</td>\n",
       "    </tr>\n",
       "    <tr>\n",
       "      <th>1</th>\n",
       "      <td>Lucy</td>\n",
       "      <td>Olifard</td>\n",
       "      <td>lolifard1@macromedia.com</td>\n",
       "      <td>NaN</td>\n",
       "      <td>9</td>\n",
       "      <td>2</td>\n",
       "    </tr>\n",
       "    <tr>\n",
       "      <th>2</th>\n",
       "      <td>Brianne</td>\n",
       "      <td>Reaman</td>\n",
       "      <td>breaman2@clickbank.net</td>\n",
       "      <td>NaN</td>\n",
       "      <td>5</td>\n",
       "      <td>&lt;NA&gt;</td>\n",
       "    </tr>\n",
       "    <tr>\n",
       "      <th>3</th>\n",
       "      <td>Lorrie</td>\n",
       "      <td>Fison</td>\n",
       "      <td>lfison3@nationalgeographic.com</td>\n",
       "      <td>Male</td>\n",
       "      <td>6</td>\n",
       "      <td>4</td>\n",
       "    </tr>\n",
       "    <tr>\n",
       "      <th>4</th>\n",
       "      <td>Alyss</td>\n",
       "      <td>Harcombe</td>\n",
       "      <td>aharcombe4@toplist.cz</td>\n",
       "      <td>Female</td>\n",
       "      <td>4</td>\n",
       "      <td>5</td>\n",
       "    </tr>\n",
       "  </tbody>\n",
       "</table>\n",
       "</div>"
      ],
      "text/plain": [
       "  first_name last_name                           email  gender  school_id  \\\n",
       "0       Andy  Fullegar              afullegar0@wsj.com  Female          2   \n",
       "1       Lucy   Olifard        lolifard1@macromedia.com     NaN          9   \n",
       "2    Brianne    Reaman          breaman2@clickbank.net     NaN          5   \n",
       "3     Lorrie     Fison  lfison3@nationalgeographic.com    Male          6   \n",
       "4      Alyss  Harcombe           aharcombe4@toplist.cz  Female          4   \n",
       "\n",
       "   books_id  \n",
       "0         1  \n",
       "1         2  \n",
       "2      <NA>  \n",
       "3         4  \n",
       "4         5  "
      ]
     },
     "execution_count": 139,
     "metadata": {},
     "output_type": "execute_result"
    }
   ],
   "source": [
    "student_db.head()"
   ]
  },
  {
   "cell_type": "code",
   "execution_count": 140,
   "metadata": {},
   "outputs": [
    {
     "data": {
      "text/plain": [
       "10"
      ]
     },
     "execution_count": 140,
     "metadata": {},
     "output_type": "execute_result"
    }
   ],
   "source": [
    "student_db.to_sql('StudentApp_student', conn, if_exists='replace', index=False)\n",
    "school_db.to_sql('StudentApp_school', conn, if_exists='replace', index=False)\n",
    "books_db.to_sql('StudentApp_book', conn, if_exists='replace', index=False)"
   ]
  },
  {
   "cell_type": "code",
   "execution_count": 141,
   "metadata": {},
   "outputs": [],
   "source": [
    "cursor.close()\n",
    "conn.close()"
   ]
  },
  {
   "cell_type": "code",
   "execution_count": 24,
   "metadata": {},
   "outputs": [
    {
     "data": {
      "text/plain": [
       "<sqlite3.Cursor at 0x19cb5d6b260>"
      ]
     },
     "execution_count": 24,
     "metadata": {},
     "output_type": "execute_result"
    }
   ],
   "source": [
    "cursor.execute('delete from StudentApp_school')"
   ]
  },
  {
   "cell_type": "code",
   "execution_count": 8,
   "metadata": {},
   "outputs": [
    {
     "data": {
      "text/plain": [
       "<sqlite3.Cursor at 0x19cb5c198f0>"
      ]
     },
     "execution_count": 8,
     "metadata": {},
     "output_type": "execute_result"
    }
   ],
   "source": [
    "cursor.execute('drop table Student')\n",
    "cursor.execute('drop table School')\n",
    "cursor.execute('drop table Book')\n"
   ]
  },
  {
   "cell_type": "code",
   "execution_count": 39,
   "metadata": {},
   "outputs": [],
   "source": [
    "cursor.close()"
   ]
  },
  {
   "cell_type": "code",
   "execution_count": 40,
   "metadata": {},
   "outputs": [],
   "source": [
    "conn.close()"
   ]
  },
  {
   "cell_type": "code",
   "execution_count": 28,
   "metadata": {},
   "outputs": [
    {
     "data": {
      "text/plain": [
       "[]"
      ]
     },
     "execution_count": 28,
     "metadata": {},
     "output_type": "execute_result"
    }
   ],
   "source": [
    "cursor.execute('SELECT * FROM StudentApp_student').fetchall()"
   ]
  },
  {
   "cell_type": "code",
   "execution_count": null,
   "metadata": {},
   "outputs": [],
   "source": []
  }
 ],
 "metadata": {
  "interpreter": {
   "hash": "ac59ebe37160ed0dfa835113d9b8498d9f09ceb179beaac4002f036b9467c963"
  },
  "kernelspec": {
   "display_name": "Python 3.9.10 64-bit (system)",
   "language": "python",
   "name": "python3"
  },
  "language_info": {
   "codemirror_mode": {
    "name": "ipython",
    "version": 3
   },
   "file_extension": ".py",
   "mimetype": "text/x-python",
   "name": "python",
   "nbconvert_exporter": "python",
   "pygments_lexer": "ipython3",
   "version": "3.9.10"
  },
  "orig_nbformat": 4
 },
 "nbformat": 4,
 "nbformat_minor": 2
}
